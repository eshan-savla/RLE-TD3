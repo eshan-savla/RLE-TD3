{
 "cells": [
  {
   "attachments": {},
   "cell_type": "markdown",
   "id": "31283171-0274-4a4e-9a04-527cc6079400",
   "metadata": {},
   "source": [
    "# Difference DDPG and TD3\n",
    "## Problems of DDPG\n",
    "- Q-function overestimates Q-values dramatically\n",
    "- policy exploits the errors in the Q-function \\n\n",
    "-> policy breaking\n",
    "TD3 is a direct successor of DDPG and improves it using three major tricks.\n",
    "\n",
    "## 1. Clipped double Q-Learning\n",
    "\n",
    "## 2. Delayed policy update\n",
    "\n",
    "## 3. Target policy smoothing\n",
    "\n"
   ]
  }
 ],
 "metadata": {
  "kernelspec": {
   "display_name": "Python 3",
   "language": "python",
   "name": "python3"
  },
  "language_info": {
   "codemirror_mode": {
    "name": "ipython",
    "version": 3
   },
   "file_extension": ".py",
   "mimetype": "text/x-python",
   "name": "python",
   "nbconvert_exporter": "python",
   "pygments_lexer": "ipython3",
   "version": "3.10.2 (tags/v3.10.2:a58ebcc, Jan 17 2022, 14:12:15) [MSC v.1929 64 bit (AMD64)]"
  },
  "vscode": {
   "interpreter": {
    "hash": "438b8d175c626dc66ab93e1d243ebbf49c1b7127dc5ebb75e5a50a3421acac2b"
   }
  }
 },
 "nbformat": 4,
 "nbformat_minor": 5
}
